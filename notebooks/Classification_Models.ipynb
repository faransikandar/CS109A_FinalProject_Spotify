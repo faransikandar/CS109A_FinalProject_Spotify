{
 "cells": [
  {
   "cell_type": "code",
   "execution_count": 14,
   "metadata": {
    "collapsed": true
   },
   "outputs": [],
   "source": [
    "import numpy as np\n",
    "import pandas as pd\n",
    "import matplotlib\n",
    "import matplotlib.pyplot as plt\n",
    "import pickle\n",
    "import seaborn as sns\n",
    "import statsmodels.api as sm\n",
    "from sklearn.linear_model import LogisticRegressionCV\n",
    "from sklearn.linear_model import LogisticRegression\n",
    "import sklearn.metrics as metrics\n",
    "from sklearn.tree import DecisionTreeClassifier, DecisionTreeClassifier\n",
    "from matplotlib.ticker import FuncFormatter\n",
    "from sklearn.model_selection import cross_val_score\n",
    "import collections\n",
    "from sklearn.model_selection import GridSearchCV\n",
    "from sklearn.ensemble import RandomForestClassifier\n",
    "from sklearn.ensemble import AdaBoostClassifier\n",
    "import sklearn.tree as tree\n",
    "import collections\n",
    "%matplotlib inline"
   ]
  },
  {
   "cell_type": "markdown",
   "metadata": {},
   "source": [
    "# Data Imputation and Dummy Creation"
   ]
  },
  {
   "cell_type": "code",
   "execution_count": 2,
   "metadata": {
    "collapsed": true
   },
   "outputs": [],
   "source": [
    "'''Read in our cleaned, aggregated data'''\n",
    "plt.style.use('seaborn')\n",
    "with open('aggregate_data.p', 'rb') as f:\n",
    "    data = pickle.load(f)\n",
    "\n",
    "#Impute missings with mean by category. Missings occur because the Million Songs Database only goes up until 2010.\n",
    "category_means = data.groupby('category').mean()\n",
    "tmp = data.join(category_means, rsuffix = '_category_mean', on = 'category')\n",
    "means = tmp[[x+'_category_mean' for x in data.columns if x not in ['category', 'featured','num_tracks','num_followers']]]\n",
    "means.columns = [x.split('_category_mean')[0] for x in means.columns]\n",
    "#fill with mean by category and replace with overall mean if no mean by category\n",
    "data = data.fillna(means)\n",
    "data = data.fillna(data.mean())\n",
    "\n",
    "\n",
    "\n",
    "# create dummies for category variable\n",
    "def create_categorical_vars(data):\n",
    "    categorical = ['category']\n",
    "    dummies = {}\n",
    "    for var in categorical:\n",
    "        dummies[var] = pd.get_dummies(data[var], prefix = var)\n",
    "        cols_to_keep = dummies[var].columns[0:len(dummies[var].columns)-1]\n",
    "        data = data.join(dummies[var][cols_to_keep])\n",
    "        data = data.drop(var, 1)\n",
    "    return data\n",
    "raw_data = data\n",
    "data = create_categorical_vars(data)\n",
    "\n",
    "\n",
    "\n",
    "#split into train / test to avoid cheating\n",
    "np.random.seed(1234)\n",
    "train_pct = .5\n",
    "msk = np.random.uniform(0,1,len(data)) < train_pct\n",
    "train = data.loc[msk, :]\n",
    "test = data.loc[~msk, :]"
   ]
  },
  {
   "cell_type": "code",
   "execution_count": 3,
   "metadata": {},
   "outputs": [
    {
     "data": {
      "text/html": [
       "<div>\n",
       "<style>\n",
       "    .dataframe thead tr:only-child th {\n",
       "        text-align: right;\n",
       "    }\n",
       "\n",
       "    .dataframe thead th {\n",
       "        text-align: left;\n",
       "    }\n",
       "\n",
       "    .dataframe tbody tr th {\n",
       "        vertical-align: top;\n",
       "    }\n",
       "</style>\n",
       "<table border=\"1\" class=\"dataframe\">\n",
       "  <thead>\n",
       "    <tr style=\"text-align: right;\">\n",
       "      <th></th>\n",
       "      <th>acousticness_max</th>\n",
       "      <th>acousticness_mean</th>\n",
       "      <th>acousticness_median</th>\n",
       "      <th>acousticness_min</th>\n",
       "      <th>acousticness_sd</th>\n",
       "      <th>danceability_max</th>\n",
       "      <th>danceability_mean</th>\n",
       "      <th>danceability_median</th>\n",
       "      <th>danceability_min</th>\n",
       "      <th>danceability_sd</th>\n",
       "      <th>...</th>\n",
       "      <th>category_pop</th>\n",
       "      <th>category_popculture</th>\n",
       "      <th>category_punk</th>\n",
       "      <th>category_reggae</th>\n",
       "      <th>category_rock</th>\n",
       "      <th>category_romance</th>\n",
       "      <th>category_sleep</th>\n",
       "      <th>category_soul</th>\n",
       "      <th>category_toplists</th>\n",
       "      <th>category_travel</th>\n",
       "    </tr>\n",
       "  </thead>\n",
       "  <tbody>\n",
       "    <tr>\n",
       "      <th>37i9dQZF1DWSBRKlyNxSuy</th>\n",
       "      <td>0.985</td>\n",
       "      <td>0.904500</td>\n",
       "      <td>0.9440</td>\n",
       "      <td>0.623000</td>\n",
       "      <td>0.083575</td>\n",
       "      <td>0.540</td>\n",
       "      <td>0.442917</td>\n",
       "      <td>0.4635</td>\n",
       "      <td>0.2890</td>\n",
       "      <td>0.065845</td>\n",
       "      <td>...</td>\n",
       "      <td>0</td>\n",
       "      <td>0</td>\n",
       "      <td>0</td>\n",
       "      <td>0</td>\n",
       "      <td>0</td>\n",
       "      <td>0</td>\n",
       "      <td>0</td>\n",
       "      <td>0</td>\n",
       "      <td>0</td>\n",
       "      <td>0</td>\n",
       "    </tr>\n",
       "    <tr>\n",
       "      <th>37i9dQZF1DWSIcimvN18p3</th>\n",
       "      <td>0.994</td>\n",
       "      <td>0.649742</td>\n",
       "      <td>0.7090</td>\n",
       "      <td>0.013200</td>\n",
       "      <td>0.277198</td>\n",
       "      <td>0.813</td>\n",
       "      <td>0.537625</td>\n",
       "      <td>0.5260</td>\n",
       "      <td>0.2190</td>\n",
       "      <td>0.133520</td>\n",
       "      <td>...</td>\n",
       "      <td>0</td>\n",
       "      <td>0</td>\n",
       "      <td>0</td>\n",
       "      <td>0</td>\n",
       "      <td>0</td>\n",
       "      <td>0</td>\n",
       "      <td>0</td>\n",
       "      <td>0</td>\n",
       "      <td>0</td>\n",
       "      <td>0</td>\n",
       "    </tr>\n",
       "    <tr>\n",
       "      <th>37i9dQZF1DWSNNoRF9meHq</th>\n",
       "      <td>0.989</td>\n",
       "      <td>0.916120</td>\n",
       "      <td>0.9340</td>\n",
       "      <td>0.643000</td>\n",
       "      <td>0.069801</td>\n",
       "      <td>0.237</td>\n",
       "      <td>0.117402</td>\n",
       "      <td>0.1115</td>\n",
       "      <td>0.0611</td>\n",
       "      <td>0.042378</td>\n",
       "      <td>...</td>\n",
       "      <td>0</td>\n",
       "      <td>0</td>\n",
       "      <td>0</td>\n",
       "      <td>0</td>\n",
       "      <td>0</td>\n",
       "      <td>0</td>\n",
       "      <td>0</td>\n",
       "      <td>0</td>\n",
       "      <td>0</td>\n",
       "      <td>0</td>\n",
       "    </tr>\n",
       "    <tr>\n",
       "      <th>37i9dQZF1DWSNmwgf7Nv11</th>\n",
       "      <td>0.979</td>\n",
       "      <td>0.490855</td>\n",
       "      <td>0.4705</td>\n",
       "      <td>0.000552</td>\n",
       "      <td>0.306968</td>\n",
       "      <td>0.831</td>\n",
       "      <td>0.527132</td>\n",
       "      <td>0.5335</td>\n",
       "      <td>0.1990</td>\n",
       "      <td>0.138828</td>\n",
       "      <td>...</td>\n",
       "      <td>0</td>\n",
       "      <td>0</td>\n",
       "      <td>0</td>\n",
       "      <td>0</td>\n",
       "      <td>0</td>\n",
       "      <td>0</td>\n",
       "      <td>0</td>\n",
       "      <td>0</td>\n",
       "      <td>0</td>\n",
       "      <td>0</td>\n",
       "    </tr>\n",
       "    <tr>\n",
       "      <th>37i9dQZF1DWSRoT7QRAibZ</th>\n",
       "      <td>0.937</td>\n",
       "      <td>0.736114</td>\n",
       "      <td>0.8045</td>\n",
       "      <td>0.055500</td>\n",
       "      <td>0.207173</td>\n",
       "      <td>0.897</td>\n",
       "      <td>0.560451</td>\n",
       "      <td>0.5460</td>\n",
       "      <td>0.3380</td>\n",
       "      <td>0.119142</td>\n",
       "      <td>...</td>\n",
       "      <td>0</td>\n",
       "      <td>0</td>\n",
       "      <td>0</td>\n",
       "      <td>0</td>\n",
       "      <td>0</td>\n",
       "      <td>0</td>\n",
       "      <td>0</td>\n",
       "      <td>0</td>\n",
       "      <td>0</td>\n",
       "      <td>0</td>\n",
       "    </tr>\n",
       "  </tbody>\n",
       "</table>\n",
       "<p>5 rows × 115 columns</p>\n",
       "</div>"
      ],
      "text/plain": [
       "                        acousticness_max  acousticness_mean  \\\n",
       "37i9dQZF1DWSBRKlyNxSuy             0.985           0.904500   \n",
       "37i9dQZF1DWSIcimvN18p3             0.994           0.649742   \n",
       "37i9dQZF1DWSNNoRF9meHq             0.989           0.916120   \n",
       "37i9dQZF1DWSNmwgf7Nv11             0.979           0.490855   \n",
       "37i9dQZF1DWSRoT7QRAibZ             0.937           0.736114   \n",
       "\n",
       "                        acousticness_median  acousticness_min  \\\n",
       "37i9dQZF1DWSBRKlyNxSuy               0.9440          0.623000   \n",
       "37i9dQZF1DWSIcimvN18p3               0.7090          0.013200   \n",
       "37i9dQZF1DWSNNoRF9meHq               0.9340          0.643000   \n",
       "37i9dQZF1DWSNmwgf7Nv11               0.4705          0.000552   \n",
       "37i9dQZF1DWSRoT7QRAibZ               0.8045          0.055500   \n",
       "\n",
       "                        acousticness_sd  danceability_max  danceability_mean  \\\n",
       "37i9dQZF1DWSBRKlyNxSuy         0.083575             0.540           0.442917   \n",
       "37i9dQZF1DWSIcimvN18p3         0.277198             0.813           0.537625   \n",
       "37i9dQZF1DWSNNoRF9meHq         0.069801             0.237           0.117402   \n",
       "37i9dQZF1DWSNmwgf7Nv11         0.306968             0.831           0.527132   \n",
       "37i9dQZF1DWSRoT7QRAibZ         0.207173             0.897           0.560451   \n",
       "\n",
       "                        danceability_median  danceability_min  \\\n",
       "37i9dQZF1DWSBRKlyNxSuy               0.4635            0.2890   \n",
       "37i9dQZF1DWSIcimvN18p3               0.5260            0.2190   \n",
       "37i9dQZF1DWSNNoRF9meHq               0.1115            0.0611   \n",
       "37i9dQZF1DWSNmwgf7Nv11               0.5335            0.1990   \n",
       "37i9dQZF1DWSRoT7QRAibZ               0.5460            0.3380   \n",
       "\n",
       "                        danceability_sd       ...         category_pop  \\\n",
       "37i9dQZF1DWSBRKlyNxSuy         0.065845       ...                    0   \n",
       "37i9dQZF1DWSIcimvN18p3         0.133520       ...                    0   \n",
       "37i9dQZF1DWSNNoRF9meHq         0.042378       ...                    0   \n",
       "37i9dQZF1DWSNmwgf7Nv11         0.138828       ...                    0   \n",
       "37i9dQZF1DWSRoT7QRAibZ         0.119142       ...                    0   \n",
       "\n",
       "                        category_popculture  category_punk  category_reggae  \\\n",
       "37i9dQZF1DWSBRKlyNxSuy                    0              0                0   \n",
       "37i9dQZF1DWSIcimvN18p3                    0              0                0   \n",
       "37i9dQZF1DWSNNoRF9meHq                    0              0                0   \n",
       "37i9dQZF1DWSNmwgf7Nv11                    0              0                0   \n",
       "37i9dQZF1DWSRoT7QRAibZ                    0              0                0   \n",
       "\n",
       "                        category_rock  category_romance  category_sleep  \\\n",
       "37i9dQZF1DWSBRKlyNxSuy              0                 0               0   \n",
       "37i9dQZF1DWSIcimvN18p3              0                 0               0   \n",
       "37i9dQZF1DWSNNoRF9meHq              0                 0               0   \n",
       "37i9dQZF1DWSNmwgf7Nv11              0                 0               0   \n",
       "37i9dQZF1DWSRoT7QRAibZ              0                 0               0   \n",
       "\n",
       "                        category_soul  category_toplists  category_travel  \n",
       "37i9dQZF1DWSBRKlyNxSuy              0                  0                0  \n",
       "37i9dQZF1DWSIcimvN18p3              0                  0                0  \n",
       "37i9dQZF1DWSNNoRF9meHq              0                  0                0  \n",
       "37i9dQZF1DWSNmwgf7Nv11              0                  0                0  \n",
       "37i9dQZF1DWSRoT7QRAibZ              0                  0                0  \n",
       "\n",
       "[5 rows x 115 columns]"
      ]
     },
     "execution_count": 3,
     "metadata": {},
     "output_type": "execute_result"
    }
   ],
   "source": [
    "'''We take a peek at our new training dataset'''\n",
    "train.head()"
   ]
  },
  {
   "cell_type": "markdown",
   "metadata": {},
   "source": [
    "# Create Classification Quintiles"
   ]
  },
  {
   "cell_type": "code",
   "execution_count": 5,
   "metadata": {
    "collapsed": true
   },
   "outputs": [],
   "source": [
    "'''We split our dependent var into quantiles for classification. We chose to use quintiles.'''\n",
    "data['num_followers_quantile'] = pd.qcut(data['num_followers'], 5, labels=False)\n",
    "quantiles = data['num_followers_quantile']\n",
    "\n",
    "y_train = train['num_followers'].astype(float)\n",
    "y_test = test['num_followers'].astype(float)\n",
    "\n",
    "\n",
    "y_train_class = pd.concat([y_train, quantiles], axis=1, join_axes=[y_train.index]).drop('num_followers', axis = 1).values.ravel()\n",
    "y_test_class = pd.concat([y_test, quantiles], axis=1, join_axes=[y_test.index]).drop('num_followers', axis = 1).values.ravel()\n",
    "\n",
    "y_train_class_by_cat = raw_data.groupby('category')['num_followers'].apply(lambda x: pd.qcut(x, 3, labels = False)).loc[msk]\n",
    "y_test_class_by_cat = raw_data.groupby('category')['num_followers'].apply(lambda x: pd.qcut(x, 3, labels = False)).loc[~msk]\n"
   ]
  },
  {
   "cell_type": "markdown",
   "metadata": {},
   "source": [
    "# Standardize"
   ]
  },
  {
   "cell_type": "code",
   "execution_count": 8,
   "metadata": {
    "collapsed": true
   },
   "outputs": [],
   "source": [
    "'''Standardize numeric features'''\n",
    "to_x_train = train[[x for x in train.columns if x != 'num_followers']]\n",
    "to_x_test = test[[x for x in test.columns if x != 'num_followers']]\n",
    "\n",
    "#Define continuous vars\n",
    "continuous_variables = [x for x in to_x_train.columns if 'category' not in x and x != 'available_markets_max' and x != 'featured']\n",
    "non_continuous_variables = [x for x in to_x_train.columns if 'category' in x]\n",
    "\n",
    "#standardize data\n",
    "def standardize_data(data, train):\n",
    "        return (data - train.mean()) / train.std()\n",
    "\n",
    "\n",
    "x_train_cont = standardize_data(to_x_train[continuous_variables], to_x_train[continuous_variables])\n",
    "x_test_cont = standardize_data(to_x_test[continuous_variables], to_x_train[continuous_variables])\n",
    "\n",
    "#merge back on non-continuous variables\n",
    "x_train_std = x_train_cont.join(to_x_train[non_continuous_variables])\n",
    "x_test_std = x_test_cont.join(to_x_test[non_continuous_variables])\n",
    "\n",
    "x_train_std2 = x_train_std.join(to_x_train['available_markets_max'])\n",
    "x_test_std2 = x_test_std.join(to_x_test['available_markets_max'])\n",
    "\n",
    "x_train_std3 = x_train_std2.join(to_x_train['featured'])\n",
    "x_test_std3 = x_test_std2.join(to_x_test['featured'])\n",
    "\n",
    "x_train_class = sm.tools.add_constant(x_train_std3, has_constant = 'add')\n",
    "x_test_class = sm.tools.add_constant(x_test_std3, has_constant = 'add')"
   ]
  },
  {
   "cell_type": "code",
   "execution_count": 9,
   "metadata": {
    "collapsed": true
   },
   "outputs": [],
   "source": [
    "'''calculate classification accuracy'''\n",
    "def calculate_cr(classifications, y):\n",
    "    correct = classifications == y\n",
    "    cr = correct.sum()/len(correct)\n",
    "    return cr"
   ]
  },
  {
   "cell_type": "markdown",
   "metadata": {},
   "source": [
    "# Baseline Model"
   ]
  },
  {
   "cell_type": "code",
   "execution_count": 10,
   "metadata": {},
   "outputs": [
    {
     "name": "stdout",
     "output_type": "stream",
     "text": [
      "Multinomial Logistic Regression\n",
      "\tTrain CR: 0.706586826347\n",
      "\tTest CR: 0.355555555556\n",
      "OvR Logistic Regression\n",
      "\tTrain CR: 0.494011976048\n",
      "\tTest CR: 0.363888888889\n"
     ]
    }
   ],
   "source": [
    "'''Begin with logistic models as baseline\n",
    "Multinomial Logistic'''\n",
    "logistic_regression_mn = LogisticRegressionCV(Cs=10, multi_class='multinomial').fit(x_train_class, y_train_class)\n",
    "logistic_classifications_train_mn = logistic_regression_mn.predict(x_train_class)\n",
    "logistic_classifications_test_mn = logistic_regression_mn.predict(x_test_class)\n",
    "\n",
    "print(\"Multinomial Logistic Regression\")\n",
    "print(\"\\tTrain CR:\", str(calculate_cr(logistic_classifications_train_mn, y_train_class)))\n",
    "print(\"\\tTest CR:\", str(calculate_cr(logistic_classifications_test_mn, y_test_class)))\n",
    "\n",
    "#OvR Logistic Reg\n",
    "logistic_regression_ovr = LogisticRegressionCV(Cs=10, multi_class='ovr').fit(x_train_class, y_train_class)\n",
    "logistic_classifications_train_ovr = logistic_regression_ovr.predict(x_train_class)\n",
    "logistic_classifications_test_ovr = logistic_regression_ovr.predict(x_test_class)\n",
    "\n",
    "print(\"OvR Logistic Regression\")\n",
    "print(\"\\tTrain CR:\", str(calculate_cr(logistic_classifications_train_ovr, y_train_class)))\n",
    "print(\"\\tTest CR:\", str(calculate_cr(logistic_classifications_test_ovr, y_test_class)))\n"
   ]
  },
  {
   "cell_type": "markdown",
   "metadata": {},
   "source": [
    "# Additional Models - Across Categories\n",
    "## Decision Tree"
   ]
  },
  {
   "cell_type": "code",
   "execution_count": 11,
   "metadata": {},
   "outputs": [
    {
     "name": "stdout",
     "output_type": "stream",
     "text": [
      "Cross-Validated Max Depth: 4\n",
      "Avg Cross-Validation Accuracy at Max: 33.53%\n",
      "Test Accuracy: 34.72%\n"
     ]
    }
   ],
   "source": [
    "'''Decision Tree with CV to pick max depth'''\n",
    "param_grid = {'max_depth' : range(1,30)}\n",
    "clf = GridSearchCV(DecisionTreeClassifier(), param_grid = param_grid, cv = 5, refit = True)\n",
    "clf.fit(x_train_class, y_train_class)\n",
    "print('Cross-Validated Max Depth: {x}'.format(x = clf.best_params_['max_depth']))\n",
    "print('Avg Cross-Validation Accuracy at Max: {x}%'.format(x = str(clf.best_score_*100)[0:5]))\n",
    "print('Test Accuracy: {x}%'.format(x = str(clf.score(x_test_class,y_test_class)*100)[0:5]))\n"
   ]
  },
  {
   "cell_type": "markdown",
   "metadata": {},
   "source": [
    "## Random Forest"
   ]
  },
  {
   "cell_type": "code",
   "execution_count": 13,
   "metadata": {},
   "outputs": [
    {
     "name": "stdout",
     "output_type": "stream",
     "text": [
      "Cross-Validated Max Depth: 6\n",
      "Cross-Validated Num Trees: 512\n",
      "Avg Cross-Validation Accuracy at Max: 41.01%\n",
      "Test Accuracy: 37.22%\n"
     ]
    }
   ],
   "source": [
    "'''Random Forest with CV to pick max depth and Number of Trees'''\n",
    "param_grid = {'n_estimators' : [2**i for i in [1,2,3,4,5,6,7,8, 9, 10]],\n",
    "              'max_depth' : [1,2,3,4,5,6,7,8]}\n",
    "clf = GridSearchCV(RandomForestClassifier(), param_grid = param_grid, cv = 5, refit = True, n_jobs = 4)\n",
    "clf.fit(x_train_class, y_train_class)\n",
    "print('Cross-Validated Max Depth: {x}'.format(x = clf.best_params_['max_depth']))\n",
    "print('Cross-Validated Num Trees: {x}'.format(x = clf.best_params_['n_estimators']))\n",
    "print('Avg Cross-Validation Accuracy at Max: {x}%'.format(x = str(clf.best_score_*100)[0:5]))\n",
    "print('Test Accuracy: {x}%'.format(x = str(clf.score(x_test_class,y_test_class)*100)[0:5]))"
   ]
  },
  {
   "cell_type": "code",
   "execution_count": 27,
   "metadata": {},
   "outputs": [
    {
     "data": {
      "text/plain": [
       "<matplotlib.axes._subplots.AxesSubplot at 0x28e26458470>"
      ]
     },
     "execution_count": 27,
     "metadata": {},
     "output_type": "execute_result"
    },
    {
     "data": {
      "image/png": "[encoded data removed]",
      "text/plain": [
       "<matplotlib.figure.Figure at 0x28e2640d0f0>"
      ]
     },
     "metadata": {},
     "output_type": "display_data"
    }
   ],
   "source": [
    "''' Top 10 most important features based on RF (as expected, popularity is important)'''\n",
    "feature_importance = pd.Series(clf.best_estimator_.feature_importances_, index = x_train_class.columns)\n",
    "feature_importance.sort_values(ascending = False).head(10).sort_values(ascending = True).plot('barh')"
   ]
  },
  {
   "cell_type": "markdown",
   "metadata": {},
   "source": [
    "## AdaBoosted Decision Trees"
   ]
  },
  {
   "cell_type": "code",
   "execution_count": 155,
   "metadata": {},
   "outputs": [
    {
     "name": "stdout",
     "output_type": "stream",
     "text": [
      "Cross-Validated Max Depth: 2\n",
      "Cross-Validated Num Trees: 64\n",
      "Avg Cross-Validation Accuracy at Max: 42.81%\n",
      "Test Accuracy: 35.83%\n"
     ]
    }
   ],
   "source": [
    "'''AdaBoost with CV to pick max depth and number of trees'''\n",
    "learning_rate = .05\n",
    "\n",
    "param_grid = {'n_estimators' : [2**i for i in [1,2,3,4,5,6,7,8]],\n",
    "              'base_estimator__max_depth' : [1,2,3,4,5,6,7,8, 9, 10, 11, 12]}\n",
    "clf = GridSearchCV(AdaBoostClassifier(DecisionTreeClassifier(), learning_rate = learning_rate), param_grid = param_grid, cv = 5, refit = True, n_jobs = 4)\n",
    "clf.fit(x_train_class, y_train_class)\n",
    "print('Cross-Validated Max Depth: {x}'.format(x = clf.best_params_['base_estimator__max_depth']))\n",
    "print('Cross-Validated Num Trees: {x}'.format(x = clf.best_params_['n_estimators']))\n",
    "print('Avg Cross-Validation Accuracy at Max: {x}%'.format(x = str(clf.best_score_*100)[0:5]))\n",
    "print('Test Accuracy: {x}%'.format(x = str(clf.score(x_test_class,y_test_class)*100)[0:5]))"
   ]
  },
  {
   "cell_type": "code",
   "execution_count": 156,
   "metadata": {},
   "outputs": [
    {
     "data": {
      "text/plain": [
       "<matplotlib.axes._subplots.AxesSubplot at 0x16d875e5438>"
      ]
     },
     "execution_count": 156,
     "metadata": {},
     "output_type": "execute_result"
    },
    {
     "data": {
      "image/png": "[encoded data removed]",
      "text/plain": [
       "<matplotlib.figure.Figure at 0x16d872b8860>"
      ]
     },
     "metadata": {},
     "output_type": "display_data"
    }
   ],
   "source": [
    "'''This shows similar results for popularity being important'''\n",
    "feature_importance = pd.Series(clf.best_estimator_.feature_importances_, index = x_train_class.columns)\n",
    "feature_importance.sort_values(ascending = False).head(10).sort_values(ascending = True).plot('barh')\n"
   ]
  },
  {
   "cell_type": "markdown",
   "metadata": {},
   "source": [
    "# Classification Within Categories\n",
    "## Decision Tree"
   ]
  },
  {
   "cell_type": "code",
   "execution_count": 199,
   "metadata": {},
   "outputs": [
    {
     "name": "stdout",
     "output_type": "stream",
     "text": [
      "Cross-Validated Max Depth: 2\n",
      "Avg Cross-Validation Accuracy at Max: 46.10%\n",
      "Test Accuracy: 46.94%\n"
     ]
    }
   ],
   "source": [
    "'''Decision Tree with CV to pick max depth'''\n",
    "param_grid = {'max_depth' : range(1,30)}\n",
    "clf = GridSearchCV(DecisionTreeClassifier(), param_grid = param_grid, cv = 5, refit = True)\n",
    "clf.fit(x_train_class, y_train_class_by_cat)\n",
    "print('Cross-Validated Max Depth: {x}'.format(x = clf.best_params_['max_depth']))\n",
    "print('Avg Cross-Validation Accuracy at Max: {x}%'.format(x = str(clf.best_score_*100)[0:5]))\n",
    "print('Test Accuracy: {x}%'.format(x = str(clf.score(x_test_class,y_test_class_by_cat)*100)[0:5]))"
   ]
  },
  {
   "cell_type": "markdown",
   "metadata": {},
   "source": [
    "## Random Forest"
   ]
  },
  {
   "cell_type": "code",
   "execution_count": 200,
   "metadata": {},
   "outputs": [
    {
     "name": "stdout",
     "output_type": "stream",
     "text": [
      "Cross-Validated Max Depth: 4\n",
      "Cross-Validated Num Trees: 32\n",
      "Avg Cross-Validation Accuracy at Max: 48.20%\n",
      "Test Accuracy: 45.27%\n"
     ]
    }
   ],
   "source": [
    "'''Random Forest with CV to pick max depth and number of trees'''\n",
    "param_grid = {'n_estimators' : [2**i for i in [1,2,3,4,5,6,7,8, 9, 10]],\n",
    "              'max_depth' : [1,2,3,4,5,6,7,8]}\n",
    "clf = GridSearchCV(RandomForestClassifier(), param_grid = param_grid, cv = 5, refit = True, n_jobs = 4)\n",
    "clf.fit(x_train_class, y_train_class_by_cat)\n",
    "print('Cross-Validated Max Depth: {x}'.format(x = clf.best_params_['max_depth']))\n",
    "print('Cross-Validated Num Trees: {x}'.format(x = clf.best_params_['n_estimators']))\n",
    "print('Avg Cross-Validation Accuracy at Max: {x}%'.format(x = str(clf.best_score_*100)[0:5]))\n",
    "print('Test Accuracy: {x}%'.format(x = str(clf.score(x_test_class,y_test_class_by_cat)*100)[0:5]))"
   ]
  },
  {
   "cell_type": "markdown",
   "metadata": {},
   "source": [
    "## AdaBoosted Decision Tree"
   ]
  },
  {
   "cell_type": "code",
   "execution_count": 194,
   "metadata": {},
   "outputs": [
    {
     "name": "stdout",
     "output_type": "stream",
     "text": [
      "Cross-Validated Max Depth: 1\n",
      "Cross-Validated Num Trees: 64\n",
      "Avg Cross-Validation Accuracy at Max: 48.20%\n",
      "Test Accuracy: 47.77%\n"
     ]
    }
   ],
   "source": [
    "'''AdaBoost with CV to pick max depth and number of trees'''\n",
    "learning_rate = .05\n",
    "param_grid = {'n_estimators' : [2**i for i in [1,2,3,4,5,6,7,8]],\n",
    "              'base_estimator__max_depth' : [1,2,3,4,5,6,7,8, 9, 10, 11, 12]}\n",
    "clf = GridSearchCV(AdaBoostClassifier(DecisionTreeClassifier(), learning_rate = learning_rate), param_grid = param_grid, cv = 5, refit = True, n_jobs = 4)\n",
    "clf.fit(x_train_class, y_train_class_by_cat)\n",
    "print('Cross-Validated Max Depth: {x}'.format(x = clf.best_params_['base_estimator__max_depth']))\n",
    "print('Cross-Validated Num Trees: {x}'.format(x = clf.best_params_['n_estimators']))\n",
    "print('Avg Cross-Validation Accuracy at Max: {x}%'.format(x = str(clf.best_score_*100)[0:5]))\n",
    "print('Test Accuracy: {x}%'.format(x = str(clf.score(x_test_class,y_test_class_by_cat)*100)[0:5]))"
   ]
  }
 ],
 "metadata": {
  "kernelspec": {
   "display_name": "Python 3",
   "language": "python",
   "name": "python3"
  },
  "language_info": {
   "codemirror_mode": {
    "name": "ipython",
    "version": 3
   },
   "file_extension": ".py",
   "mimetype": "text/x-python",
   "name": "python",
   "nbconvert_exporter": "python",
   "pygments_lexer": "ipython3",
   "version": "3.5.3"
  }
 },
 "nbformat": 4,
 "nbformat_minor": 2
}
